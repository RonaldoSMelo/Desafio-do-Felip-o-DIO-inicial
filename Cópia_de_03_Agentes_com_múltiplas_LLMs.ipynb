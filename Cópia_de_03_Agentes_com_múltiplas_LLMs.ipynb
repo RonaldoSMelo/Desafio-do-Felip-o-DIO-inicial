{
  "nbformat": 4,
  "nbformat_minor": 0,
  "metadata": {
    "colab": {
      "provenance": [],
      "toc_visible": true,
      "include_colab_link": true
    },
    "kernelspec": {
      "name": "python3",
      "display_name": "Python 3"
    },
    "language_info": {
      "name": "python"
    }
  },
  "cells": [
    {
      "cell_type": "markdown",
      "metadata": {
        "id": "view-in-github",
        "colab_type": "text"
      },
      "source": [
        "<a href=\"https://colab.research.google.com/github/RonaldoSMelo/Desafio-do-Felip-o-DIO-inicial/blob/main/C%C3%B3pia_de_03_Agentes_com_m%C3%BAltiplas_LLMs.ipynb\" target=\"_parent\"><img src=\"https://colab.research.google.com/assets/colab-badge.svg\" alt=\"Open In Colab\"/></a>"
      ]
    },
    {
      "cell_type": "markdown",
      "source": [
        "<h1 style=\"color: red; font-weight: bold;\">ATENÇÃO ERRATA</h1>\n",
        "\n",
        "\n",
        "Na Live eu disse para colocar o comando \"allow_delegation=False\" nas tarefas.\n",
        "</br>\n",
        "Na verdade deve ser nos agentes.\n",
        "</br>\n",
        "O código já está corrigido.\n",
        "</br>\n",
        "Pedimos desculpas pelo engano."
      ],
      "metadata": {
        "id": "WDHr0tDD4xLT"
      }
    },
    {
      "cell_type": "code",
      "source": [],
      "metadata": {
        "id": "QcHDdFhc4w4b"
      },
      "execution_count": null,
      "outputs": []
    },
    {
      "cell_type": "markdown",
      "source": [
        "# AGENTES COM MÚLTIPLAS LLM'S"
      ],
      "metadata": {
        "id": "Dovf3ZBM9T0N"
      }
    },
    {
      "cell_type": "code",
      "execution_count": null,
      "metadata": {
        "id": "JwXrfvxJzpec"
      },
      "outputs": [],
      "source": [
        "!pip install --q crewai\n",
        "!pip install --q langchain_groq\n",
        "!pip install --q langchain_chatOpenAI\n",
        "!pip install --q 'crewai[tools]'\n",
        "!pip install --q dotenv\n",
        "!pip install --q textwrap3"
      ]
    },
    {
      "cell_type": "markdown",
      "source": [
        "<img src=\"https://raw.githubusercontent.com/sandeco/crewai/main/images/2.png\" width=\"80%\"\n",
        "/>"
      ],
      "metadata": {
        "id": "J998GxzgdiXk"
      }
    },
    {
      "cell_type": "code",
      "source": [
        "import os\n",
        "\n",
        "from crewai_tools.tools.scrape_website_tool.scrape_website_tool import ScrapeWebsiteTool\n",
        "from dotenv import load_dotenv\n",
        "from datetime import datetime\n",
        "from crewai import Agent, Task, Crew, Process\n",
        "from langchain_openai import ChatOpenAI\n",
        "from langchain_groq import ChatGroq\n",
        "from textwrap import dedent"
      ],
      "metadata": {
        "id": "mh8Lt2ENcn-W"
      },
      "execution_count": null,
      "outputs": []
    },
    {
      "cell_type": "code",
      "source": [
        "# Carregar as variáveis de ambiente do arquivo .env\n",
        "load_dotenv()\n",
        "\n",
        "# Configuração das chaves de API (substitua com suas chaves reais)\n",
        "openai_api_key = os.getenv(\"OPENAI_API_KEY\")\n",
        "groq_api_key = os.getenv(\"GROQ_API_KEY\")\n",
        "\n"
      ],
      "metadata": {
        "id": "pGbvOJ-pQaxR"
      },
      "execution_count": null,
      "outputs": []
    },
    {
      "cell_type": "markdown",
      "source": [
        "# NOSSAS MENTES"
      ],
      "metadata": {
        "id": "CzzJZtRsdwJo"
      }
    },
    {
      "cell_type": "code",
      "source": [
        "gpt3_llm = ChatOpenAI(model=\"gpt-3.5-turbo\", api_key=openai_api_key)"
      ],
      "metadata": {
        "id": "Y6FcaNKJdDz7"
      },
      "execution_count": null,
      "outputs": []
    },
    {
      "cell_type": "code",
      "source": [
        "gpt4o_llm = ChatOpenAI(model=\"gpt-4o\", api_key=openai_api_key)"
      ],
      "metadata": {
        "id": "PNuNoHBtdT91"
      },
      "execution_count": null,
      "outputs": []
    },
    {
      "cell_type": "code",
      "source": [
        "llama3_70b = ChatGroq(model=\"llama3-70b-8192\", api_key=groq_api_key)"
      ],
      "metadata": {
        "id": "nZlVWAHadeQh"
      },
      "execution_count": null,
      "outputs": []
    },
    {
      "cell_type": "markdown",
      "source": [
        "#RASPANDO A WEB"
      ],
      "metadata": {
        "id": "Rf9ousmGd37U"
      }
    },
    {
      "cell_type": "code",
      "source": [
        "ainew = ScrapeWebsiteTool(\n",
        "    website_url=\"https://www.artificialintelligence-news.com/\"\n",
        ")"
      ],
      "metadata": {
        "id": "SnysngJVd6zF"
      },
      "execution_count": null,
      "outputs": []
    },
    {
      "cell_type": "code",
      "source": [
        "forbes = ScrapeWebsiteTool(\n",
        "    website_url=\"https://www.forbes.com/ai/\"\n",
        ")"
      ],
      "metadata": {
        "id": "P1QWetb7efg8"
      },
      "execution_count": null,
      "outputs": []
    },
    {
      "cell_type": "markdown",
      "source": [
        "#CRIANDO OS AGENTES"
      ],
      "metadata": {
        "id": "TGHkdqY0fATu"
      }
    },
    {
      "cell_type": "code",
      "source": [
        "planejador = Agent(\n",
        "    role=\"Planejador de postagem\",\n",
        "    goal=\"Planejar conteúdo envolvente para instagram sobre {topic}\",\n",
        "    backstory=\"Você está trabalhando no planejamento de {n} posts para o instagram \"\n",
        "              \"sobre o tema: {topic}. \"\n",
        "              \"Você coleta informações que ajudam o \"\n",
        "              \"público se informar sobre {topic}. \"\n",
        "              \"Seu trabalho é a base para que \"\n",
        "              \"o Pesquisador de Conteúdo procure na web sobre {topic}.\",\n",
        "    verbose=True,\n",
        "    llm=gpt3_llm,\n",
        "    allow_delegation=False\n",
        "\n",
        ")"
      ],
      "metadata": {
        "id": "_ZYUmrtjelqx"
      },
      "execution_count": null,
      "outputs": []
    },
    {
      "cell_type": "code",
      "source": [
        "pesquisador = Agent(\n",
        "    role='Pesquisador',\n",
        "    goal='Pesquisar tendências para postagens sobre {topic} na área '\n",
        "         'de tecnologia com base no planejamento do Planejador. '\n",
        "         'Seu trabalho é a base para que '\n",
        "         'o escritor possa escrever {n} posts sobre {topic}',\n",
        "    verbose=True,\n",
        "    backstory=\"Você é um pesquisador experiente, sempre em busca das últimas tendências e informações relevantes sobre {topic}.\",\n",
        "    llm=gpt3_llm,\n",
        "    tools=[ainew, forbes],\n",
        "    allow_delegation=False\n",
        ")\n"
      ],
      "metadata": {
        "id": "b_v6k3_tgWpx"
      },
      "execution_count": null,
      "outputs": []
    },
    {
      "cell_type": "code",
      "source": [
        "escritor = Agent(\n",
        "    role='Escritor',\n",
        "    goal='Escrever {n} postagens cativantes em português do Brasil para o Instagram sobre {topic} com no mínimo 250 palavras e no máximo 350 palavras.'\n",
        "         'Seu trabalho é a base para que o fotografo possa escrever prompts de imagens para os {n} posts',\n",
        "    backstory=\"Você é um escritor criativo, capaz de transformar informações em conteúdo atraente para postagens no Instagram.\",\n",
        "    llm=gpt4o_llm,\n",
        "    verbose=True,\n",
        "    allow_delegation=False\n",
        ")"
      ],
      "metadata": {
        "id": "ghqv4HD0hSAa"
      },
      "execution_count": null,
      "outputs": []
    },
    {
      "cell_type": "code",
      "source": [
        "fotografo = Agent(\n",
        "    role='Fotógrafo',\n",
        "    goal='Escrever prompts de imagens para as {n} postagens para gerar imagens cativantes para o Instagram sobre {topic}.',\n",
        "    backstory=dedent(\"\"\"Você é um fotógrafo criativo,\n",
        "                        capaz de transformar informações em imagens e escrever prompts\n",
        "                        de imagens atraentes para postagens no Instagram.\"\"\"),\n",
        "    verbose=True,\n",
        "    llm=llama3_70b,\n",
        "    max_rpm=1,\n",
        "    allow_delegation=False\n",
        ")"
      ],
      "metadata": {
        "id": "vWrkxC0mh4-_"
      },
      "execution_count": null,
      "outputs": []
    },
    {
      "cell_type": "code",
      "source": [
        "# Agentes\n",
        "gerente = Agent(\n",
        "    role='Gerente de postagens',\n",
        "    goal=dedent(\"\"\"Supervisione o trabalho de uma equipe de postagens no Instagram. Você é bem crítico em relação\n",
        "            ao que vai ser postado no Instagram da empresa de notícias na área da tecnologia.\n",
        "            Você delegará tarefas à sua equipe e fará perguntas esclarecedoras\n",
        "            para revisar e aprovar as {n} posts sobre {topic} que foram solicitadas pela direção da empresa.\"\"\"),\n",
        "    verbose=True,\n",
        "    backstory=dedent(\"\"\"Você é um gerente experiente, sempre em busca das últimas tendências e informações relevantes.\n",
        "                 Você está trabalhando com uma nova demanda e faz com que sua equipe realize o trabalho da\n",
        "                 melhor forma possível.\"\"\"),\n",
        "    llm=gpt3_llm,\n",
        ")"
      ],
      "metadata": {
        "id": "udY-NJSHihXi"
      },
      "execution_count": null,
      "outputs": []
    },
    {
      "cell_type": "markdown",
      "source": [
        "#TAREFAS"
      ],
      "metadata": {
        "id": "xQLeJ3KNiphi"
      }
    },
    {
      "cell_type": "code",
      "source": [
        "plano_task = Task(\n",
        "    description=(\n",
        "        \"1. Priorize as últimas tendências, principais 'players', \"\n",
        "            \"e notícias relevantes sobre {topic}.\\n\"\n",
        "        \"2. Identifique o público-alvo, considerando \"\n",
        "            \"seus interesses e pontos de dor.\\n\"\n",
        "        \"3. Desenvolva um plano de conteúdo detalhado, incluindo \"\n",
        "            \"uma introdução, pontos principais e um chamado à ação.\\n\"\n",
        "        \"4. Inclua palavras-chave de SEO e dados ou fontes relevantes.\"\n",
        "    ),\n",
        "    expected_output=\"Um documento de plano de conteúdo para {n} posts sobre {topic} \"\n",
        "        \"com um esboço, análise do público, \"\n",
        "        \"palavras-chave de SEO e recursos.\",\n",
        "    agent=planejador,\n",
        "    verbose=2\n",
        ")"
      ],
      "metadata": {
        "id": "90CTdZUViuUd"
      },
      "execution_count": null,
      "outputs": []
    },
    {
      "cell_type": "code",
      "source": [
        "pesquisa_task = Task(\n",
        "    description=\"Pesquise as últimas tendências sobre {topic}.\",\n",
        "    expected_output=\"Um relatório detalhado sobre as tendências mais recentes sobre {topic} na área de tecnologia.\",\n",
        "    agent=pesquisador,\n",
        "    verbose=2\n",
        ")"
      ],
      "metadata": {
        "id": "vihLX3FvjQdO"
      },
      "execution_count": null,
      "outputs": []
    },
    {
      "cell_type": "code",
      "source": [
        "escrita_task = Task(\n",
        "    description=dedent(\"\"\"Escreva {n} postagens envolventes em português do Brasil\n",
        "                        com base nas tendências pesquisadas sobre {topic} com no mínimo 250 palavras e no máximo 350 palavras cada.\n",
        "                        Cada post deve ser formatado como:\n",
        "                        \\n\\nPOST:\\ntexto do post em português do brasil\n",
        "                        \\n\\nPROMPT:\\nPrompt da imagem desse post\\n\\n\"\"\"),\n",
        "    expected_output=\"{n} postagens de Instagram bem escritas, atraentes e em português do Brasil, formatadas conforme especificado para o tópico {topic}.\",\n",
        "    agent=escritor,\n",
        "    verbose=2\n",
        ")"
      ],
      "metadata": {
        "id": "EE8tySBzjXu0"
      },
      "execution_count": null,
      "outputs": []
    },
    {
      "cell_type": "code",
      "source": [
        "criacao_imagem_task = Task(\n",
        "    description=\"Crie {n} prompts para criar uma imagem atraente para acompanhar a postagem no Instagram sobre {topic}.\",\n",
        "    expected_output=\"{n} prompts de alta qualidade adequados para o Instagram based in {topic}.\",\n",
        "    agent=fotografo,\n",
        "    verbose=2\n",
        ")"
      ],
      "metadata": {
        "id": "6MjYVkrukGtT"
      },
      "execution_count": null,
      "outputs": []
    },
    {
      "cell_type": "code",
      "source": [
        "revisao_task = Task(\n",
        "    description=dedent(\"\"\"Revise as {n} escritas e prompts de imagens\n",
        "                          para as {n} postagens do cliente e garanta\n",
        "                          que as informações de cada postagem estejam organizadas, sem erros e cativantes\n",
        "                          em português do Brasil sobre {topic}.\n",
        "                          Certifique-se de que cada post está formatado como:\n",
        "                          \\n\\nPOST:\\ntexto do post em português do brasil\n",
        "                          \\n\\nPROMPT:\\nPrompt da imagem desse post\\n\\n\"\"\"),\n",
        "    expected_output=\"{n} textos e prompts de imagens organizados por post, revisados e prontos para serem publicados em português do Brasil, formatados conforme especificado.\",\n",
        "    agent=gerente,\n",
        "    verbose=2\n",
        ")"
      ],
      "metadata": {
        "id": "yYVEXT_njqb8"
      },
      "execution_count": null,
      "outputs": []
    },
    {
      "cell_type": "markdown",
      "source": [
        "#CRIANDO A TRIPULAÇÃO"
      ],
      "metadata": {
        "id": "XV9LQuCHjx1b"
      }
    },
    {
      "cell_type": "code",
      "source": [
        "crew = Crew(\n",
        "    agents=[planejador, pesquisador, escritor, fotografo, gerente],\n",
        "    tasks=[plano_task, pesquisa_task, escrita_task, criacao_imagem_task, revisao_task],\n",
        "    process=Process.sequential,\n",
        "    verbose=2,\n",
        "    memory=True\n",
        ")"
      ],
      "metadata": {
        "id": "5fGtO1HOj0QW"
      },
      "execution_count": null,
      "outputs": []
    },
    {
      "cell_type": "markdown",
      "source": [
        "<img src=\"https://raw.githubusercontent.com/sandeco/crewai/main/images/15.png\" width=\"80%\"\n",
        "/>"
      ],
      "metadata": {
        "id": "gHQt1fMFfvan"
      }
    },
    {
      "cell_type": "code",
      "source": [
        "result = crew.kickoff(inputs={\n",
        "      'topic':'Inteligência Artificial e Agentes Inteligêntes',\n",
        "      'n':1})"
      ],
      "metadata": {
        "id": "iZA3cyz-4HXW"
      },
      "execution_count": null,
      "outputs": []
    },
    {
      "cell_type": "code",
      "source": [
        "current_date = datetime.now().strftime(\"%Y-%m-%d\")\n",
        "filename = f\"posts-{current_date}.txt\"              #\"post-2024-06-11.txt\"\n",
        "with open(filename, 'w', encoding='utf-8') as file:\n",
        "    file.write(result)"
      ],
      "metadata": {
        "id": "Z85oJFpr4c-V"
      },
      "execution_count": null,
      "outputs": []
    }
  ]
}